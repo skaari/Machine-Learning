{
 "cells": [
  {
   "cell_type": "markdown",
   "metadata": {},
   "source": [
    "## Custom Estimators and Machine Learning Workflows\n",
    "\n",
    "The inbuilt California housing data has features for latitude and longitude. Create a custom transformer that returns features for the euclidean distance away from a given set of coordinates. Use this custom transformer to create features for the distance away from Los Angeles and San Francisco and include them with the original features to create a Linear Regression Model"
   ]
  },
  {
   "cell_type": "code",
   "execution_count": 13,
   "metadata": {},
   "outputs": [],
   "source": [
    "from sklearn.datasets import fetch_california_housing\n",
    "from sklearn.base import BaseEstimator, TransformerMixin\n",
    "from sklearn.pipeline import Pipeline, FeatureUnion\n",
    "from sklearn.linear_model import LinearRegression\n",
    "from sklearn.preprocessing import StandardScaler"
   ]
  },
  {
   "cell_type": "code",
   "execution_count": 2,
   "metadata": {},
   "outputs": [],
   "source": [
    "import numpy as np"
   ]
  },
  {
   "cell_type": "code",
   "execution_count": 3,
   "metadata": {},
   "outputs": [],
   "source": [
    "data=fetch_california_housing()"
   ]
  },
  {
   "cell_type": "code",
   "execution_count": 4,
   "metadata": {},
   "outputs": [
    {
     "name": "stdout",
     "output_type": "stream",
     "text": [
      ".. _california_housing_dataset:\n",
      "\n",
      "California Housing dataset\n",
      "--------------------------\n",
      "\n",
      "**Data Set Characteristics:**\n",
      "\n",
      "    :Number of Instances: 20640\n",
      "\n",
      "    :Number of Attributes: 8 numeric, predictive attributes and the target\n",
      "\n",
      "    :Attribute Information:\n",
      "        - MedInc        median income in block\n",
      "        - HouseAge      median house age in block\n",
      "        - AveRooms      average number of rooms\n",
      "        - AveBedrms     average number of bedrooms\n",
      "        - Population    block population\n",
      "        - AveOccup      average house occupancy\n",
      "        - Latitude      house block latitude\n",
      "        - Longitude     house block longitude\n",
      "\n",
      "    :Missing Attribute Values: None\n",
      "\n",
      "This dataset was obtained from the StatLib repository.\n",
      "http://lib.stat.cmu.edu/datasets/\n",
      "\n",
      "The target variable is the median house value for California districts.\n",
      "\n",
      "This dataset was derived from the 1990 U.S. census, using one row per census\n",
      "block group. A block group is the smallest geographical unit for which the U.S.\n",
      "Census Bureau publishes sample data (a block group typically has a population\n",
      "of 600 to 3,000 people).\n",
      "\n",
      "It can be downloaded/loaded using the\n",
      ":func:`sklearn.datasets.fetch_california_housing` function.\n",
      "\n",
      ".. topic:: References\n",
      "\n",
      "    - Pace, R. Kelley and Ronald Barry, Sparse Spatial Autoregressions,\n",
      "      Statistics and Probability Letters, 33 (1997) 291-297\n",
      "\n"
     ]
    }
   ],
   "source": [
    "print(data['DESCR'])"
   ]
  },
  {
   "cell_type": "code",
   "execution_count": 5,
   "metadata": {},
   "outputs": [],
   "source": [
    "X=data['data']\n",
    "y=data['target']"
   ]
  },
  {
   "cell_type": "code",
   "execution_count": null,
   "metadata": {},
   "outputs": [],
   "source": []
  },
  {
   "cell_type": "code",
   "execution_count": 6,
   "metadata": {},
   "outputs": [],
   "source": [
    "class DistFromCity(BaseEstimator, TransformerMixin):\n",
    "    \"\"\" This estimator transforms the latitude and longitude features to return the \n",
    "    euclidean distance from a given set of coordinates\"\"\"\n",
    "    \n",
    "    def __init__(self,coord):\n",
    "        self.coord=coord\n",
    "    \n",
    "    def fit(self, X, y=None):\n",
    "        return self\n",
    "    \n",
    "    def transform(self, X):\n",
    "        #Assumes latitude and longitude are in column 0 and 1 respectively\n",
    "        lat=X[:,0]\n",
    "        long=X[:,1]\n",
    "        \n",
    "        dist=np.sqrt((lat-self.coord[0])**2 + (long-self.coord[1])**2)\n",
    "        dist=dist.reshape(-1,1)\n",
    "        \n",
    "        \n",
    "        return dist\n",
    "    "
   ]
  },
  {
   "cell_type": "code",
   "execution_count": 8,
   "metadata": {},
   "outputs": [],
   "source": [
    "class KeepColumns(BaseEstimator, TransformerMixin):\n",
    "    \"\"\"This Transformer keeps the columns specified on initialization\"\"\"\n",
    "    \n",
    "    def __init__(self,ind_cols):\n",
    "        self.ind_cols=ind_cols\n",
    "        \n",
    "    def fit(self, X, y=None):\n",
    "        return self\n",
    "    \n",
    "    def transform(self, X):\n",
    "        \n",
    "        return X[:,self.ind_cols]"
   ]
  },
  {
   "cell_type": "code",
   "execution_count": null,
   "metadata": {},
   "outputs": [],
   "source": []
  },
  {
   "cell_type": "code",
   "execution_count": 14,
   "metadata": {},
   "outputs": [],
   "source": [
    "coord_LA=(34,-118)\n",
    "coord_SF=(37,-122)\n",
    "dist_LA=DistFromCity(coord_LA)\n",
    "dist_SF=DistFromCity(coord_SF)\n",
    "keepothers=KeepColumns([0,1,2,3,4,5])\n",
    "keepcoord=KeepColumns([6,7])\n",
    "\n",
    "pipe_LA=Pipeline([\n",
    "    ('keepcoord',keepcoord),\n",
    "    ('dist_la',dist_LA)\n",
    "])\n",
    "pipe_SF=Pipeline([\n",
    "    ('keepcoord',keepcoord),\n",
    "    ('dist_la',dist_SF)\n",
    "])\n",
    "union=FeatureUnion([\n",
    "    \n",
    "    ('LA',pipe_LA),\n",
    "    ('SF',pipe_SF),\n",
    "    ('keep',keepothers)\n",
    "])\n",
    "pipe=Pipeline([\n",
    "    ('union', union),\n",
    "    ('scaler', StandardScaler()),\n",
    "    ('lin_reg',LinearRegression())\n",
    "])"
   ]
  },
  {
   "cell_type": "code",
   "execution_count": 15,
   "metadata": {},
   "outputs": [
    {
     "data": {
      "text/plain": [
       "Pipeline(steps=[('union',\n",
       "                 FeatureUnion(transformer_list=[('LA',\n",
       "                                                 Pipeline(steps=[('keepcoord',\n",
       "                                                                  KeepColumns(ind_cols=[6,\n",
       "                                                                                        7])),\n",
       "                                                                 ('dist_la',\n",
       "                                                                  DistFromCity(coord=(34,\n",
       "                                                                                      -118)))])),\n",
       "                                                ('SF',\n",
       "                                                 Pipeline(steps=[('keepcoord',\n",
       "                                                                  KeepColumns(ind_cols=[6,\n",
       "                                                                                        7])),\n",
       "                                                                 ('dist_la',\n",
       "                                                                  DistFromCity(coord=(37,\n",
       "                                                                                      -122)))])),\n",
       "                                                ('keep',\n",
       "                                                 KeepColumns(ind_cols=[0, 1, 2,\n",
       "                                                                       3, 4,\n",
       "                                                                       5]))])),\n",
       "                ('scaler', StandardScaler()), ('lin_reg', LinearRegression())])"
      ]
     },
     "execution_count": 15,
     "metadata": {},
     "output_type": "execute_result"
    }
   ],
   "source": [
    "pipe.fit(X,y)"
   ]
  },
  {
   "cell_type": "code",
   "execution_count": 16,
   "metadata": {},
   "outputs": [
    {
     "data": {
      "text/plain": [
       "0.549363502829012"
      ]
     },
     "execution_count": 16,
     "metadata": {},
     "output_type": "execute_result"
    }
   ],
   "source": [
    "pipe.score(X,y)"
   ]
  },
  {
   "cell_type": "code",
   "execution_count": null,
   "metadata": {},
   "outputs": [],
   "source": []
  }
 ],
 "metadata": {
  "kernelspec": {
   "display_name": "Python 3",
   "language": "python",
   "name": "python3"
  },
  "language_info": {
   "codemirror_mode": {
    "name": "ipython",
    "version": 3
   },
   "file_extension": ".py",
   "mimetype": "text/x-python",
   "name": "python",
   "nbconvert_exporter": "python",
   "pygments_lexer": "ipython3",
   "version": "3.8.8"
  }
 },
 "nbformat": 4,
 "nbformat_minor": 4
}
